{
 "cells": [
  {
   "cell_type": "markdown",
   "id": "9d33a49f",
   "metadata": {},
   "source": [
    "# Data set split: Test size 20% Training size 80%\n",
    "# PCA not performed"
   ]
  },
  {
   "cell_type": "code",
   "execution_count": 27,
   "id": "f1e80991",
   "metadata": {},
   "outputs": [],
   "source": [
    "import numpy as np\n",
    "import pandas as pd\n",
    "import seaborn as sns\n",
    "import matplotlib.pyplot as plt\n",
    "from sklearn.svm import SVC  ## Import SVC\n",
    "from sklearn import svm\n",
    "from sklearn.metrics import f1_score\n",
    "from pandas.plotting import scatter_matrix\n",
    "import sklearn.linear_model as skl_lm\n",
    "from sklearn.preprocessing import StandardScaler\n",
    "from sqlalchemy import create_engine\n",
    "from sklearn.dummy import DummyClassifier\n",
    "from sklearn.ensemble import RandomForestClassifier, VotingClassifier\n",
    "from sklearn.naive_bayes import GaussianNB\n",
    "from sklearn.linear_model import LogisticRegression, LogisticRegressionCV\n",
    "from sklearn.metrics import confusion_matrix, classification_report, accuracy_score, precision_score, recall_score, roc_auc_score\n",
    "from sklearn.preprocessing import StandardScaler, PolynomialFeatures\n",
    "from sklearn.pipeline import make_pipeline\n",
    "%matplotlib inline  \n",
    "from pandas.plotting import scatter_matrix\n",
    "from sklearn.model_selection import train_test_split\n",
    "from sklearn.neighbors import KNeighborsClassifier\n",
    "from sklearn.metrics import accuracy_score\n",
    "from sklearn import preprocessing\n",
    "from sklearn.tree import DecisionTreeClassifier \n",
    "from sklearn.discriminant_analysis import LinearDiscriminantAnalysis \n",
    "\n",
    "accent_dataset = pd.read_csv(\"accent-mfcc-data-1.csv\")\n",
    "#collect datatset"
   ]
  },
  {
   "cell_type": "markdown",
   "id": "cc1533f5",
   "metadata": {},
   "source": [
    "# --- Model Development ---"
   ]
  },
  {
   "cell_type": "markdown",
   "id": "000217b5",
   "metadata": {},
   "source": [
    "# 1) KNN "
   ]
  },
  {
   "cell_type": "markdown",
   "id": "8c8531e3",
   "metadata": {},
   "source": [
    "### without any neighbors"
   ]
  },
  {
   "cell_type": "code",
   "execution_count": 28,
   "id": "d7169a71",
   "metadata": {},
   "outputs": [],
   "source": [
    "accent_dataset['isUS'] = [True if l == 'US' else False for l in accent_dataset['language']]\n",
    "X = accent_dataset.drop(['language', 'isUS'], axis=1)\n",
    "y = accent_dataset['isUS']\n",
    "X_train, X_test, y_train, y_test = train_test_split(X, y, test_size=0.20, random_state=1)\n",
    "m_knn = KNeighborsClassifier()\n",
    "m_knn.fit(X_train,y_train)\n",
    "y_pred = m_knn.predict(X_train)"
   ]
  },
  {
   "cell_type": "code",
   "execution_count": 29,
   "id": "740a2eb1",
   "metadata": {},
   "outputs": [
    {
     "name": "stdout",
     "output_type": "stream",
     "text": [
      "[[129   3]\n",
      " [ 11 120]]\n"
     ]
    }
   ],
   "source": [
    "print(confusion_matrix(y_train, y_pred))"
   ]
  },
  {
   "cell_type": "code",
   "execution_count": 30,
   "id": "4bada68c",
   "metadata": {},
   "outputs": [
    {
     "name": "stdout",
     "output_type": "stream",
     "text": [
      "[[28  4]\n",
      " [ 2 32]]\n"
     ]
    }
   ],
   "source": [
    "y_pred = m_knn.predict(X_test)\n",
    "print(confusion_matrix(y_test, y_pred))"
   ]
  },
  {
   "cell_type": "code",
   "execution_count": 31,
   "id": "3abc6af1",
   "metadata": {},
   "outputs": [
    {
     "name": "stdout",
     "output_type": "stream",
     "text": [
      "              precision    recall  f1-score   support\n",
      "\n",
      "      Not US     0.9333    0.8750    0.9032        32\n",
      "       Is US     0.8889    0.9412    0.9143        34\n",
      "\n",
      "    accuracy                         0.9091        66\n",
      "   macro avg     0.9111    0.9081    0.9088        66\n",
      "weighted avg     0.9104    0.9091    0.9089        66\n",
      "\n"
     ]
    }
   ],
   "source": [
    "from sklearn.metrics import classification_report \n",
    "print(classification_report(y_test, y_pred, target_names = ['Not US','Is US'], digits = 4))"
   ]
  },
  {
   "cell_type": "markdown",
   "id": "c4b02961",
   "metadata": {},
   "source": [
    "## Observation for KNN without any neighbors:\n",
    "accuracy of model is high 0.90 with considering any neighbors"
   ]
  },
  {
   "cell_type": "markdown",
   "id": "82cf6e49",
   "metadata": {},
   "source": [
    "## KNN with neighbors"
   ]
  },
  {
   "cell_type": "code",
   "execution_count": 32,
   "id": "2c23829f",
   "metadata": {},
   "outputs": [
    {
     "name": "stdout",
     "output_type": "stream",
     "text": [
      "=================================================== \n",
      "\n",
      "Value of neighbors : 1\n",
      "              precision    recall  f1-score   support\n",
      "\n",
      "      Not US  0.8529412 0.9062500 0.8787879        32\n",
      "       Is US  0.9062500 0.8529412 0.8787879        34\n",
      "\n",
      "    accuracy                      0.8787879        66\n",
      "   macro avg  0.8795956 0.8795956 0.8787879        66\n",
      "weighted avg  0.8804033 0.8787879 0.8787879        66\n",
      "\n",
      "=================================================== \n",
      "\n",
      "Value of neighbors : 2\n",
      "              precision    recall  f1-score   support\n",
      "\n",
      "      Not US  0.7692308 0.9375000 0.8450704        32\n",
      "       Is US  0.9259259 0.7352941 0.8196721        34\n",
      "\n",
      "    accuracy                      0.8333333        66\n",
      "   macro avg  0.8475783 0.8363971 0.8323713        66\n",
      "weighted avg  0.8499525 0.8333333 0.8319865        66\n",
      "\n",
      "=================================================== \n",
      "\n",
      "Value of neighbors : 3\n",
      "              precision    recall  f1-score   support\n",
      "\n",
      "      Not US  0.8484848 0.8750000 0.8615385        32\n",
      "       Is US  0.8787879 0.8529412 0.8656716        34\n",
      "\n",
      "    accuracy                      0.8636364        66\n",
      "   macro avg  0.8636364 0.8639706 0.8636051        66\n",
      "weighted avg  0.8640955 0.8636364 0.8636677        66\n",
      "\n",
      "=================================================== \n",
      "\n",
      "Value of neighbors : 4\n",
      "              precision    recall  f1-score   support\n",
      "\n",
      "      Not US  0.8378378 0.9687500 0.8985507        32\n",
      "       Is US  0.9655172 0.8235294 0.8888889        34\n",
      "\n",
      "    accuracy                      0.8939394        66\n",
      "   macro avg  0.9016775 0.8961397 0.8937198        66\n",
      "weighted avg  0.9036121 0.8939394 0.8935734        66\n",
      "\n",
      "=================================================== \n",
      "\n",
      "Value of neighbors : 5\n",
      "              precision    recall  f1-score   support\n",
      "\n",
      "      Not US  0.9333333 0.8750000 0.9032258        32\n",
      "       Is US  0.8888889 0.9411765 0.9142857        34\n",
      "\n",
      "    accuracy                      0.9090909        66\n",
      "   macro avg  0.9111111 0.9080882 0.9087558        66\n",
      "weighted avg  0.9104377 0.9090909 0.9089233        66\n",
      "\n",
      "=================================================== \n",
      "\n",
      "Value of neighbors : 6\n",
      "              precision    recall  f1-score   support\n",
      "\n",
      "      Not US  0.8571429 0.9375000 0.8955224        32\n",
      "       Is US  0.9354839 0.8529412 0.8923077        34\n",
      "\n",
      "    accuracy                      0.8939394        66\n",
      "   macro avg  0.8963134 0.8952206 0.8939150        66\n",
      "weighted avg  0.8975003 0.8939394 0.8938663        66\n",
      "\n",
      "=================================================== \n",
      "\n",
      "Value of neighbors : 7\n",
      "              precision    recall  f1-score   support\n",
      "\n",
      "      Not US  0.8823529 0.9375000 0.9090909        32\n",
      "       Is US  0.9375000 0.8823529 0.9090909        34\n",
      "\n",
      "    accuracy                      0.9090909        66\n",
      "   macro avg  0.9099265 0.9099265 0.9090909        66\n",
      "weighted avg  0.9107620 0.9090909 0.9090909        66\n",
      "\n",
      "=================================================== \n",
      "\n",
      "Value of neighbors : 8\n",
      "              precision    recall  f1-score   support\n",
      "\n",
      "      Not US  0.8157895 0.9687500 0.8857143        32\n",
      "       Is US  0.9642857 0.7941176 0.8709677        34\n",
      "\n",
      "    accuracy                      0.8787879        66\n",
      "   macro avg  0.8900376 0.8814338 0.8783410        66\n",
      "weighted avg  0.8922875 0.8787879 0.8781176        66\n",
      "\n",
      "=================================================== \n",
      "\n",
      "Value of neighbors : 9\n",
      "              precision    recall  f1-score   support\n",
      "\n",
      "      Not US  0.8529412 0.9062500 0.8787879        32\n",
      "       Is US  0.9062500 0.8529412 0.8787879        34\n",
      "\n",
      "    accuracy                      0.8787879        66\n",
      "   macro avg  0.8795956 0.8795956 0.8787879        66\n",
      "weighted avg  0.8804033 0.8787879 0.8787879        66\n",
      "\n"
     ]
    }
   ],
   "source": [
    "for i in range(1, 10):\n",
    "        print(\"=================================================== \\n\")\n",
    "        knn_clf = KNeighborsClassifier(n_jobs=-1, n_neighbors=i) \n",
    "        knn_clf.fit(X_train ,y_train)\n",
    "        knn_pred = knn_clf.predict(X_test)\n",
    "        accuracy_score(y_test, knn_pred)\n",
    "        print(\"Value of neighbors :\", i)\n",
    "        print(classification_report(y_test, knn_pred, target_names = ['Not US','Is US'], digits = 7))"
   ]
  },
  {
   "cell_type": "markdown",
   "id": "e45acab0",
   "metadata": {},
   "source": [
    "## Observation for KNN with neighbors- \n",
    "KNN works well when number of neighbours = 5 or 7\n",
    "The precision fot the two classes changes with 5 and 7\n",
    "\n",
    "With KNN = 5, F1 score for not-US is more than it is for KNN=7\n",
    "Check what F1 score means"
   ]
  },
  {
   "cell_type": "markdown",
   "id": "dbcd7d95",
   "metadata": {},
   "source": [
    "# 2) LOGISTIC REGRESSION"
   ]
  },
  {
   "cell_type": "code",
   "execution_count": 33,
   "id": "57a361ec",
   "metadata": {},
   "outputs": [],
   "source": [
    "import sklearn.linear_model as skl_lm\n",
    "log_clf = skl_lm.LogisticRegression(solver='newton-cg')"
   ]
  },
  {
   "cell_type": "code",
   "execution_count": 34,
   "id": "697345b8",
   "metadata": {},
   "outputs": [
    {
     "data": {
      "text/plain": [
       "LogisticRegression(solver='newton-cg')"
      ]
     },
     "execution_count": 34,
     "metadata": {},
     "output_type": "execute_result"
    }
   ],
   "source": [
    "log_clf.fit(X_train,y_train)"
   ]
  },
  {
   "cell_type": "code",
   "execution_count": 35,
   "id": "6829f33d",
   "metadata": {},
   "outputs": [],
   "source": [
    "log_pred = log_clf.predict(X_test)"
   ]
  },
  {
   "cell_type": "code",
   "execution_count": 36,
   "id": "55256f06",
   "metadata": {},
   "outputs": [
    {
     "data": {
      "text/plain": [
       "0.803030303030303"
      ]
     },
     "execution_count": 36,
     "metadata": {},
     "output_type": "execute_result"
    }
   ],
   "source": [
    "accuracy_score(y_test, log_pred)"
   ]
  },
  {
   "cell_type": "code",
   "execution_count": 37,
   "id": "3c28fbe0",
   "metadata": {},
   "outputs": [
    {
     "name": "stdout",
     "output_type": "stream",
     "text": [
      "              precision    recall  f1-score   support\n",
      "\n",
      "      Not US  0.7714286 0.8437500 0.8059701        32\n",
      "       Is US  0.8387097 0.7647059 0.8000000        34\n",
      "\n",
      "    accuracy                      0.8030303        66\n",
      "   macro avg  0.8050691 0.8042279 0.8029851        66\n",
      "weighted avg  0.8060885 0.8030303 0.8028946        66\n",
      "\n"
     ]
    }
   ],
   "source": [
    "print(classification_report(y_test,log_pred, target_names = ['Not US','Is US'], digits = 7))"
   ]
  },
  {
   "cell_type": "markdown",
   "id": "b12621ca",
   "metadata": {},
   "source": [
    "## Using scaling in log reg - Not needed\n",
    "Note: Used to scaling to check accuracy of the model"
   ]
  },
  {
   "cell_type": "code",
   "execution_count": 38,
   "id": "e42d5565",
   "metadata": {},
   "outputs": [],
   "source": [
    "scaler = preprocessing.StandardScaler().fit(X_train)\n",
    "X_train_scaled = scaler.transform(X_train)"
   ]
  },
  {
   "cell_type": "code",
   "execution_count": 39,
   "id": "f90462ba",
   "metadata": {},
   "outputs": [
    {
     "data": {
      "text/plain": [
       "LogisticRegression(solver='newton-cg')"
      ]
     },
     "execution_count": 39,
     "metadata": {},
     "output_type": "execute_result"
    }
   ],
   "source": [
    "log_clf.fit(X_train_scaled,y_train)"
   ]
  },
  {
   "cell_type": "code",
   "execution_count": 40,
   "id": "2a589f02",
   "metadata": {},
   "outputs": [
    {
     "name": "stderr",
     "output_type": "stream",
     "text": [
      "/home/pushkar/my_env/lib/python3.8/site-packages/sklearn/base.py:443: UserWarning: X has feature names, but LogisticRegression was fitted without feature names\n",
      "  warnings.warn(\n"
     ]
    }
   ],
   "source": [
    "log_pred_scaled = log_clf.predict(X_test)"
   ]
  },
  {
   "cell_type": "code",
   "execution_count": 41,
   "id": "a938f579",
   "metadata": {},
   "outputs": [
    {
     "data": {
      "text/plain": [
       "0.6363636363636364"
      ]
     },
     "execution_count": 41,
     "metadata": {},
     "output_type": "execute_result"
    }
   ],
   "source": [
    "accuracy_score(y_test, log_pred_scaled)"
   ]
  },
  {
   "cell_type": "markdown",
   "id": "d2138e0a",
   "metadata": {},
   "source": [
    "## Checked accuracy with solver liblinear of logistic regression"
   ]
  },
  {
   "cell_type": "code",
   "execution_count": 42,
   "id": "43bc40cb",
   "metadata": {},
   "outputs": [
    {
     "name": "stdout",
     "output_type": "stream",
     "text": [
      "              precision    recall  f1-score   support\n",
      "\n",
      "      Not US  0.8000000 0.8750000 0.8358209        32\n",
      "       Is US  0.8709677 0.7941176 0.8307692        34\n",
      "\n",
      "    accuracy                      0.8333333        66\n",
      "   macro avg  0.8354839 0.8345588 0.8332951        66\n",
      "weighted avg  0.8365591 0.8333333 0.8332185        66\n",
      "\n",
      "===================================================\n",
      "confusion matrix for y train is :  [[108  24]\n",
      " [ 38  93]]\n",
      "confusion matrix for y test is :  [[28  4]\n",
      " [ 7 27]]\n",
      "accuracy score for training :  0.7642585551330798\n"
     ]
    }
   ],
   "source": [
    "import sklearn.linear_model as skl_lm\n",
    "log_clf = skl_lm.LogisticRegression(solver='liblinear')\n",
    "log_clf.fit(X_train,y_train)\n",
    "log_pred = log_clf.predict(X_test)\n",
    "log_pred_train = log_clf.predict(X_train)\n",
    "accuracy_score(y_test, log_pred)\n",
    "print(classification_report(y_test,log_pred, target_names = ['Not US','Is US'], digits = 7))\n",
    "print(\"===================================================\")\n",
    "print(\"confusion matrix for y train is : \", confusion_matrix(y_train, log_pred_train))\n",
    "print(\"confusion matrix for y test is : \", confusion_matrix(y_test, log_pred))\n",
    "print(\"accuracy score for training : \", accuracy_score(y_train, log_pred_train))"
   ]
  },
  {
   "cell_type": "markdown",
   "id": "2ee091f0",
   "metadata": {},
   "source": [
    "## Observation for Logistic regression:\n",
    "We can see better accuracy with liblinear solver compared to that of newton-cg"
   ]
  },
  {
   "cell_type": "markdown",
   "id": "397ba644",
   "metadata": {},
   "source": [
    "## Checked accuracy with solver newton-cg of logistic regression"
   ]
  },
  {
   "cell_type": "code",
   "execution_count": 43,
   "id": "2e196a6b",
   "metadata": {},
   "outputs": [
    {
     "name": "stdout",
     "output_type": "stream",
     "text": [
      "              precision    recall  f1-score   support\n",
      "\n",
      "      Not US  0.7714286 0.8437500 0.8059701        32\n",
      "       Is US  0.8387097 0.7647059 0.8000000        34\n",
      "\n",
      "    accuracy                      0.8030303        66\n",
      "   macro avg  0.8050691 0.8042279 0.8029851        66\n",
      "weighted avg  0.8060885 0.8030303 0.8028946        66\n",
      "\n",
      "===================================================\n",
      "confusion matrix for y train is :  [[111  21]\n",
      " [ 36  95]]\n",
      "confusion matrix for y test is :  [[27  5]\n",
      " [ 8 26]]\n",
      "accuracy score for training :  0.7832699619771863\n"
     ]
    }
   ],
   "source": [
    "log_clf = skl_lm.LogisticRegression(solver='newton-cg')\n",
    "log_clf.fit(X_train,y_train)\n",
    "log_pred = log_clf.predict(X_test)\n",
    "log_pred_train = log_clf.predict(X_train)\n",
    "accuracy_score(y_test, log_pred)\n",
    "print(classification_report(y_test,log_pred, target_names = ['Not US','Is US'], digits = 7))\n",
    "print(\"===================================================\")\n",
    "print(\"confusion matrix for y train is : \", confusion_matrix(y_train, log_pred_train))\n",
    "print(\"confusion matrix for y test is : \", confusion_matrix(y_test, log_pred))\n",
    "print(\"accuracy score for training : \", accuracy_score(y_train, log_pred_train))"
   ]
  },
  {
   "cell_type": "markdown",
   "id": "2962a946",
   "metadata": {},
   "source": [
    "# 3) Linear Discriminant Analysis (LDA)\n",
    "Note: checked accuaracy of LDA with different solver"
   ]
  },
  {
   "cell_type": "code",
   "execution_count": 44,
   "id": "cb220500",
   "metadata": {},
   "outputs": [
    {
     "name": "stdout",
     "output_type": "stream",
     "text": [
      "              precision    recall  f1-score   support\n",
      "\n",
      "      Not US  0.7631579 0.9062500 0.8285714        32\n",
      "       Is US  0.8928571 0.7352941 0.8064516        34\n",
      "\n",
      "    accuracy                      0.8181818        66\n",
      "   macro avg  0.8280075 0.8207721 0.8175115        66\n",
      "weighted avg  0.8299727 0.8181818 0.8171764        66\n",
      "\n",
      "===================================================\n",
      "confusion matrix for y train is : \n",
      " [[104  28]\n",
      " [ 39  92]]\n",
      "confusion matrix for y test is : \n",
      " [[29  3]\n",
      " [ 9 25]]\n",
      "accuracy score for training : \n",
      " 0.7452471482889734\n"
     ]
    }
   ],
   "source": [
    "lda_clf = LinearDiscriminantAnalysis(solver='svd')\n",
    "lda_clf.fit(X_train,y_train)\n",
    "lda_pred = lda_clf.predict(X_test)\n",
    "accuracy_score(y_test, lda_pred)\n",
    "lda_pred_train = lda_clf.predict(X_train)\n",
    "print(classification_report(y_test,lda_pred, target_names = ['Not US','Is US'], digits = 7))\n",
    "print(\"===================================================\")\n",
    "print(\"confusion matrix for y train is : \\n\", confusion_matrix(y_train, lda_pred_train))\n",
    "print(\"confusion matrix for y test is : \\n\", confusion_matrix(y_test, lda_pred))\n",
    "print(\"accuracy score for training : \\n\", accuracy_score(y_train, lda_pred_train))\n",
    "\n"
   ]
  },
  {
   "cell_type": "markdown",
   "id": "c1146879",
   "metadata": {},
   "source": [
    "# Observation LDA:\n",
    "Accuracy and other parameters are same for svd, lsqr and eigen solvers"
   ]
  },
  {
   "cell_type": "markdown",
   "id": "9377ef63",
   "metadata": {},
   "source": [
    "### LDA with solver 'lsqr'"
   ]
  },
  {
   "cell_type": "code",
   "execution_count": 45,
   "id": "c978ba33",
   "metadata": {},
   "outputs": [
    {
     "name": "stdout",
     "output_type": "stream",
     "text": [
      "              precision    recall  f1-score   support\n",
      "\n",
      "      Not US  0.7631579 0.9062500 0.8285714        32\n",
      "       Is US  0.8928571 0.7352941 0.8064516        34\n",
      "\n",
      "    accuracy                      0.8181818        66\n",
      "   macro avg  0.8280075 0.8207721 0.8175115        66\n",
      "weighted avg  0.8299727 0.8181818 0.8171764        66\n",
      "\n",
      "===================================================\n",
      "confusion matrix for y train is : \n",
      " [[104  28]\n",
      " [ 39  92]]\n",
      "confusion matrix for y test is : \n",
      " [[29  3]\n",
      " [ 9 25]]\n",
      "accuracy score for training : \n",
      " 0.7452471482889734\n"
     ]
    }
   ],
   "source": [
    "lda_clf = LinearDiscriminantAnalysis(solver='lsqr')\n",
    "lda_clf.fit(X_train,y_train)\n",
    "lda_pred = lda_clf.predict(X_test)\n",
    "accuracy_score(y_test, lda_pred)\n",
    "lda_pred_train = lda_clf.predict(X_train)\n",
    "print(classification_report(y_test,lda_pred, target_names = ['Not US','Is US'], digits = 7))\n",
    "print(\"===================================================\")\n",
    "print(\"confusion matrix for y train is : \\n\", confusion_matrix(y_train, lda_pred_train))\n",
    "print(\"confusion matrix for y test is : \\n\", confusion_matrix(y_test, lda_pred))\n",
    "print(\"accuracy score for training : \\n\", accuracy_score(y_train, lda_pred_train))\n",
    "\n"
   ]
  },
  {
   "cell_type": "markdown",
   "id": "ad9d3498",
   "metadata": {},
   "source": [
    "# 4) Decision Tree"
   ]
  },
  {
   "cell_type": "code",
   "execution_count": 46,
   "id": "29372ea4",
   "metadata": {},
   "outputs": [
    {
     "name": "stdout",
     "output_type": "stream",
     "text": [
      "              precision    recall  f1-score   support\n",
      "\n",
      "      Not US  0.7500000 0.7500000 0.7500000        32\n",
      "       Is US  0.7647059 0.7647059 0.7647059        34\n",
      "\n",
      "    accuracy                      0.7575758        66\n",
      "   macro avg  0.7573529 0.7573529 0.7573529        66\n",
      "weighted avg  0.7575758 0.7575758 0.7575758        66\n",
      "\n",
      "===================================================\n",
      "confusion matrix for y train is : \n",
      " [[132   0]\n",
      " [  0 131]]\n",
      "confusion matrix for y test is : \n",
      " [[24  8]\n",
      " [ 8 26]]\n",
      "accuracy score for training : \n",
      " 1.0\n"
     ]
    }
   ],
   "source": [
    "# ****** without tuning parameter ******\n",
    "dt_clf = DecisionTreeClassifier()\n",
    "dt_clf.fit(X_train,y_train)\n",
    "dt_pred = dt_clf.predict(X_test)\n",
    "accuracy_score(y_test, dt_pred)\n",
    "dt_pred_train = dt_clf.predict(X_train)\n",
    "print(classification_report(y_test,dt_pred, target_names = ['Not US','Is US'], digits = 7))\n",
    "print(\"===================================================\")\n",
    "print(\"confusion matrix for y train is : \\n\", confusion_matrix(y_train, dt_pred_train))\n",
    "print(\"confusion matrix for y test is : \\n\", confusion_matrix(y_test, dt_pred))\n",
    "print(\"accuracy score for training : \\n\", accuracy_score(y_train, dt_pred_train))\n"
   ]
  },
  {
   "cell_type": "code",
   "execution_count": 47,
   "id": "70493838",
   "metadata": {},
   "outputs": [
    {
     "name": "stdout",
     "output_type": "stream",
     "text": [
      "===================================================\n",
      "number of leafs:  1\n",
      "              precision    recall  f1-score   support\n",
      "\n",
      "      Not US  0.7741935 0.7500000 0.7619048        32\n",
      "       Is US  0.7714286 0.7941176 0.7826087        34\n",
      "\n",
      "    accuracy                      0.7727273        66\n",
      "   macro avg  0.7728111 0.7720588 0.7722567        66\n",
      "weighted avg  0.7727692 0.7727273 0.7725704        66\n",
      "\n",
      "===================================================\n",
      "confusion matrix for y train is : \n",
      " [[132   0]\n",
      " [  0 131]]\n",
      "confusion matrix for y test is : \n",
      " [[24  8]\n",
      " [ 7 27]]\n",
      "accuracy score for training : \n",
      " 1.0\n",
      "===================================================\n",
      "number of leafs:  2\n",
      "              precision    recall  f1-score   support\n",
      "\n",
      "      Not US  0.7428571 0.8125000 0.7761194        32\n",
      "       Is US  0.8064516 0.7352941 0.7692308        34\n",
      "\n",
      "    accuracy                      0.7727273        66\n",
      "   macro avg  0.7746544 0.7738971 0.7726751        66\n",
      "weighted avg  0.7756179 0.7727273 0.7725707        66\n",
      "\n",
      "===================================================\n",
      "confusion matrix for y train is : \n",
      " [[131   1]\n",
      " [  5 126]]\n",
      "confusion matrix for y test is : \n",
      " [[26  6]\n",
      " [ 9 25]]\n",
      "accuracy score for training : \n",
      " 0.9771863117870723\n",
      "===================================================\n",
      "number of leafs:  3\n",
      "              precision    recall  f1-score   support\n",
      "\n",
      "      Not US  0.8000000 0.7500000 0.7741935        32\n",
      "       Is US  0.7777778 0.8235294 0.8000000        34\n",
      "\n",
      "    accuracy                      0.7878788        66\n",
      "   macro avg  0.7888889 0.7867647 0.7870968        66\n",
      "weighted avg  0.7885522 0.7878788 0.7874878        66\n",
      "\n",
      "===================================================\n",
      "confusion matrix for y train is : \n",
      " [[129   3]\n",
      " [ 13 118]]\n",
      "confusion matrix for y test is : \n",
      " [[24  8]\n",
      " [ 6 28]]\n",
      "accuracy score for training : \n",
      " 0.9391634980988594\n",
      "===================================================\n",
      "number of leafs:  4\n",
      "              precision    recall  f1-score   support\n",
      "\n",
      "      Not US  0.8387097 0.8125000 0.8253968        32\n",
      "       Is US  0.8285714 0.8529412 0.8405797        34\n",
      "\n",
      "    accuracy                      0.8333333        66\n",
      "   macro avg  0.8336406 0.8327206 0.8329883        66\n",
      "weighted avg  0.8334869 0.8333333 0.8332183        66\n",
      "\n",
      "===================================================\n",
      "confusion matrix for y train is : \n",
      " [[129   3]\n",
      " [ 17 114]]\n",
      "confusion matrix for y test is : \n",
      " [[26  6]\n",
      " [ 5 29]]\n",
      "accuracy score for training : \n",
      " 0.9239543726235742\n",
      "===================================================\n",
      "number of leafs:  5\n",
      "              precision    recall  f1-score   support\n",
      "\n",
      "      Not US  0.8275862 0.7500000 0.7868852        32\n",
      "       Is US  0.7837838 0.8529412 0.8169014        34\n",
      "\n",
      "    accuracy                      0.8030303        66\n",
      "   macro avg  0.8056850 0.8014706 0.8018933        66\n",
      "weighted avg  0.8050213 0.8030303 0.8023481        66\n",
      "\n",
      "===================================================\n",
      "confusion matrix for y train is : \n",
      " [[127   5]\n",
      " [ 15 116]]\n",
      "confusion matrix for y test is : \n",
      " [[24  8]\n",
      " [ 5 29]]\n",
      "accuracy score for training : \n",
      " 0.9239543726235742\n",
      "===================================================\n",
      "number of leafs:  6\n",
      "              precision    recall  f1-score   support\n",
      "\n",
      "      Not US  0.8387097 0.8125000 0.8253968        32\n",
      "       Is US  0.8285714 0.8529412 0.8405797        34\n",
      "\n",
      "    accuracy                      0.8333333        66\n",
      "   macro avg  0.8336406 0.8327206 0.8329883        66\n",
      "weighted avg  0.8334869 0.8333333 0.8332183        66\n",
      "\n",
      "===================================================\n",
      "confusion matrix for y train is : \n",
      " [[124   8]\n",
      " [ 17 114]]\n",
      "confusion matrix for y test is : \n",
      " [[26  6]\n",
      " [ 5 29]]\n",
      "accuracy score for training : \n",
      " 0.9049429657794676\n",
      "===================================================\n",
      "number of leafs:  7\n",
      "              precision    recall  f1-score   support\n",
      "\n",
      "      Not US  0.8437500 0.8437500 0.8437500        32\n",
      "       Is US  0.8529412 0.8529412 0.8529412        34\n",
      "\n",
      "    accuracy                      0.8484848        66\n",
      "   macro avg  0.8483456 0.8483456 0.8483456        66\n",
      "weighted avg  0.8484848 0.8484848 0.8484848        66\n",
      "\n",
      "===================================================\n",
      "confusion matrix for y train is : \n",
      " [[124   8]\n",
      " [ 19 112]]\n",
      "confusion matrix for y test is : \n",
      " [[27  5]\n",
      " [ 5 29]]\n",
      "accuracy score for training : \n",
      " 0.8973384030418251\n",
      "===================================================\n",
      "number of leafs:  8\n",
      "              precision    recall  f1-score   support\n",
      "\n",
      "      Not US  0.8437500 0.8437500 0.8437500        32\n",
      "       Is US  0.8529412 0.8529412 0.8529412        34\n",
      "\n",
      "    accuracy                      0.8484848        66\n",
      "   macro avg  0.8483456 0.8483456 0.8483456        66\n",
      "weighted avg  0.8484848 0.8484848 0.8484848        66\n",
      "\n",
      "===================================================\n",
      "confusion matrix for y train is : \n",
      " [[119  13]\n",
      " [ 18 113]]\n",
      "confusion matrix for y test is : \n",
      " [[27  5]\n",
      " [ 5 29]]\n",
      "accuracy score for training : \n",
      " 0.8821292775665399\n",
      "===================================================\n",
      "number of leafs:  9\n",
      "              precision    recall  f1-score   support\n",
      "\n",
      "      Not US  0.7666667 0.7187500 0.7419355        32\n",
      "       Is US  0.7500000 0.7941176 0.7714286        34\n",
      "\n",
      "    accuracy                      0.7575758        66\n",
      "   macro avg  0.7583333 0.7564338 0.7566820        66\n",
      "weighted avg  0.7580808 0.7575758 0.7571289        66\n",
      "\n",
      "===================================================\n",
      "confusion matrix for y train is : \n",
      " [[116  16]\n",
      " [ 20 111]]\n",
      "confusion matrix for y test is : \n",
      " [[23  9]\n",
      " [ 7 27]]\n",
      "accuracy score for training : \n",
      " 0.8631178707224335\n"
     ]
    }
   ],
   "source": [
    "# ****** with tuning parameter *******\n",
    "for i in range (1, 10):\n",
    "    print(\"===================================================\")\n",
    "    print(\"number of leafs: \", i)\n",
    "    dt_clf = DecisionTreeClassifier(min_samples_leaf=i)\n",
    "    dt_clf.fit(X_train,y_train)\n",
    "    dt_pred = dt_clf.predict(X_test)\n",
    "    accuracy_score(y_test, dt_pred)\n",
    "    dt_pred_train = dt_clf.predict(X_train)\n",
    "    print(classification_report(y_test,dt_pred, target_names = ['Not US','Is US'], digits = 7))\n",
    "    print(\"===================================================\")\n",
    "    print(\"confusion matrix for y train is : \\n\", confusion_matrix(y_train, dt_pred_train))\n",
    "    print(\"confusion matrix for y test is : \\n\", confusion_matrix(y_test, dt_pred))\n",
    "    print(\"accuracy score for training : \\n\", accuracy_score(y_train, dt_pred_train))\n"
   ]
  },
  {
   "cell_type": "markdown",
   "id": "f340c2be",
   "metadata": {},
   "source": [
    "# observation for decision Tree:\n",
    "we noticed that better accuracy is for criterion- gini compared to entropy"
   ]
  },
  {
   "cell_type": "markdown",
   "id": "06353a4e",
   "metadata": {},
   "source": [
    "# 5) SVM\n",
    "Note: checked accuracy of SVM with different kernal and degree            \n",
    "Note: If the hyperplane classifies the dataset linearly then the algorithm we call it as SVC and the algorithm that \n",
    "separates the dataset by non-linear approach then we call it as SVM"
   ]
  },
  {
   "cell_type": "code",
   "execution_count": 48,
   "id": "dc70329b",
   "metadata": {},
   "outputs": [
    {
     "name": "stdout",
     "output_type": "stream",
     "text": [
      "===================================================  \n",
      "\n",
      "kernel is liner\n",
      "[[27  5]\n",
      " [ 6 28]]\n",
      "              precision    recall  f1-score   support\n",
      "\n",
      "       False       0.82      0.84      0.83        32\n",
      "        True       0.85      0.82      0.84        34\n",
      "\n",
      "    accuracy                           0.83        66\n",
      "   macro avg       0.83      0.83      0.83        66\n",
      "weighted avg       0.83      0.83      0.83        66\n",
      "\n",
      "===================================================  \n",
      "\n",
      "kernel is poly degree is 5\n",
      "[[32  0]\n",
      " [10 24]]\n",
      "              precision    recall  f1-score   support\n",
      "\n",
      "       False       0.76      1.00      0.86        32\n",
      "        True       1.00      0.71      0.83        34\n",
      "\n",
      "    accuracy                           0.85        66\n",
      "   macro avg       0.88      0.85      0.85        66\n",
      "weighted avg       0.88      0.85      0.85        66\n",
      "\n",
      "===================================================  \n",
      "\n",
      "kernel is poly degree changed to 20\n",
      "[[32  0]\n",
      " [18 16]]\n",
      "              precision    recall  f1-score   support\n",
      "\n",
      "       False       0.64      1.00      0.78        32\n",
      "        True       1.00      0.47      0.64        34\n",
      "\n",
      "    accuracy                           0.73        66\n",
      "   macro avg       0.82      0.74      0.71        66\n",
      "weighted avg       0.83      0.73      0.71        66\n",
      "\n",
      "===================================================  \n",
      "\n",
      "kernel is poly degree changed to 8\n",
      "[[32  0]\n",
      " [11 23]]\n",
      "              precision    recall  f1-score   support\n",
      "\n",
      "       False       0.74      1.00      0.85        32\n",
      "        True       1.00      0.68      0.81        34\n",
      "\n",
      "    accuracy                           0.83        66\n",
      "   macro avg       0.87      0.84      0.83        66\n",
      "weighted avg       0.88      0.83      0.83        66\n",
      "\n",
      "kernel is rbf\n",
      "[[32  0]\n",
      " [ 9 25]]\n",
      "              precision    recall  f1-score   support\n",
      "\n",
      "       False       0.78      1.00      0.88        32\n",
      "        True       1.00      0.74      0.85        34\n",
      "\n",
      "    accuracy                           0.86        66\n",
      "   macro avg       0.89      0.87      0.86        66\n",
      "weighted avg       0.89      0.86      0.86        66\n",
      "\n",
      "===================================================  \n",
      "\n",
      "kernel is sigmoid\n",
      "[[32  0]\n",
      " [15 19]]\n",
      "              precision    recall  f1-score   support\n",
      "\n",
      "       False       0.68      1.00      0.81        32\n",
      "        True       1.00      0.56      0.72        34\n",
      "\n",
      "    accuracy                           0.77        66\n",
      "   macro avg       0.84      0.78      0.76        66\n",
      "weighted avg       0.85      0.77      0.76        66\n",
      "\n"
     ]
    }
   ],
   "source": [
    "print(\"===================================================  \\n\")\n",
    "print(\"kernel is liner\")\n",
    "svc_clf = svm.SVC(kernel='linear')\n",
    "svc_clf.fit(X_train, y_train)\n",
    "svc_pred = svc_clf.predict(X_test)\n",
    "print(confusion_matrix(y_test,svc_pred))\n",
    "print(classification_report(y_test,svc_pred))\n",
    "\n",
    "print(\"===================================================  \\n\")\n",
    "\n",
    "print(\"kernel is poly degree is 5\")\n",
    "svc_clf = SVC(kernel='poly', degree=5)\n",
    "svc_clf.fit(X_train, y_train)\n",
    "svc_pred_poly = svc_clf.predict(X_test)\n",
    "print(confusion_matrix(y_test,svc_pred_poly))\n",
    "print(classification_report(y_test,svc_pred_poly))\n",
    "\n",
    "print(\"===================================================  \\n\")\n",
    "\n",
    "print(\"kernel is poly degree changed to 20\")\n",
    "svc_clf = SVC(kernel='poly', degree=20)\n",
    "svc_clf.fit(X_train, y_train)\n",
    "svc_pred_poly = svc_clf.predict(X_test)\n",
    "print(confusion_matrix(y_test,svc_pred_poly))\n",
    "print(classification_report(y_test,svc_pred_poly))\n",
    "\n",
    "print(\"===================================================  \\n\")\n",
    "\n",
    "print(\"kernel is poly degree changed to 8\")\n",
    "svc_clf = SVC(kernel='poly', degree=8)\n",
    "svc_clf.fit(X_train, y_train)\n",
    "svc_pred_poly = svc_clf.predict(X_test)\n",
    "print(confusion_matrix(y_test,svc_pred_poly))\n",
    "print(classification_report(y_test,svc_pred_poly))\n",
    "\n",
    "print(\"kernel is rbf\")\n",
    "svc_clf = SVC(kernel='rbf')\n",
    "svc_clf.fit(X_train, y_train)\n",
    "svc_pred_gau = svc_clf.predict(X_test)\n",
    "print(confusion_matrix(y_test,svc_pred_gau))\n",
    "print(classification_report(y_test,svc_pred_gau))\n",
    "\n",
    "print(\"===================================================  \\n\")\n",
    "\n",
    "print(\"kernel is sigmoid\")\n",
    "svc_clf = SVC(kernel='sigmoid')\n",
    "svc_clf.fit(X_train, y_train)\n",
    "svc_pred_sig = svc_clf.predict(X_test)\n",
    "print(confusion_matrix(y_test,svc_pred_sig))\n",
    "print(classification_report(y_test,svc_pred_sig))"
   ]
  },
  {
   "cell_type": "markdown",
   "id": "62aabbb4",
   "metadata": {},
   "source": []
  },
  {
   "cell_type": "code",
   "execution_count": 49,
   "id": "acd06021",
   "metadata": {},
   "outputs": [
    {
     "name": "stdout",
     "output_type": "stream",
     "text": [
      "=================================================== \n",
      "\n",
      "kernel is liner\n",
      "[[32  0]\n",
      " [ 9 25]]\n",
      "              precision    recall  f1-score   support\n",
      "\n",
      "       False       0.78      1.00      0.88        32\n",
      "        True       1.00      0.74      0.85        34\n",
      "\n",
      "    accuracy                           0.86        66\n",
      "   macro avg       0.89      0.87      0.86        66\n",
      "weighted avg       0.89      0.86      0.86        66\n",
      "\n",
      "=================================================== \n",
      "\n",
      "kernel is poly degree is 5\n",
      "[[32  0]\n",
      " [10 24]]\n",
      "              precision    recall  f1-score   support\n",
      "\n",
      "       False       0.76      1.00      0.86        32\n",
      "        True       1.00      0.71      0.83        34\n",
      "\n",
      "    accuracy                           0.85        66\n",
      "   macro avg       0.88      0.85      0.85        66\n",
      "weighted avg       0.88      0.85      0.85        66\n",
      "\n",
      "=================================================== \n",
      "\n",
      "kernel is poly degree changed to 20\n",
      "[[32  0]\n",
      " [18 16]]\n",
      "              precision    recall  f1-score   support\n",
      "\n",
      "       False       0.64      1.00      0.78        32\n",
      "        True       1.00      0.47      0.64        34\n",
      "\n",
      "    accuracy                           0.73        66\n",
      "   macro avg       0.82      0.74      0.71        66\n",
      "weighted avg       0.83      0.73      0.71        66\n",
      "\n",
      "=================================================== \n",
      "\n",
      "kernel is poly degree changed to 8\n",
      "[[32  0]\n",
      " [11 23]]\n",
      "              precision    recall  f1-score   support\n",
      "\n",
      "       False       0.74      1.00      0.85        32\n",
      "        True       1.00      0.68      0.81        34\n",
      "\n",
      "    accuracy                           0.83        66\n",
      "   macro avg       0.87      0.84      0.83        66\n",
      "weighted avg       0.88      0.83      0.83        66\n",
      "\n",
      "kernel is rbf\n",
      "[[32  0]\n",
      " [ 9 25]]\n",
      "              precision    recall  f1-score   support\n",
      "\n",
      "       False       0.78      1.00      0.88        32\n",
      "        True       1.00      0.74      0.85        34\n",
      "\n",
      "    accuracy                           0.86        66\n",
      "   macro avg       0.89      0.87      0.86        66\n",
      "weighted avg       0.89      0.86      0.86        66\n",
      "\n",
      "=================================================== \n",
      "\n",
      "kernel is sigmoid\n",
      "[[32  0]\n",
      " [15 19]]\n",
      "              precision    recall  f1-score   support\n",
      "\n",
      "       False       0.68      1.00      0.81        32\n",
      "        True       1.00      0.56      0.72        34\n",
      "\n",
      "    accuracy                           0.77        66\n",
      "   macro avg       0.84      0.78      0.76        66\n",
      "weighted avg       0.85      0.77      0.76        66\n",
      "\n"
     ]
    }
   ],
   "source": [
    "print(\"=================================================== \\n\")\n",
    "print(\"kernel is liner\")\n",
    "svc_clf = svm.SVC(decision_function_shape='ovo')\n",
    "svc_clf.fit(X_train, y_train)\n",
    "svc_pred = svc_clf.predict(X_test)\n",
    "print(confusion_matrix(y_test,svc_pred))\n",
    "print(classification_report(y_test,svc_pred))\n",
    "\n",
    "print(\"=================================================== \\n\")\n",
    "\n",
    "print(\"kernel is poly degree is 5\")\n",
    "svc_clf = svm.SVC(kernel='poly', degree=5)\n",
    "svc_clf.fit(X_train, y_train)\n",
    "svc_pred_poly = svc_clf.predict(X_test)\n",
    "print(confusion_matrix(y_test,svc_pred_poly))\n",
    "print(classification_report(y_test,svc_pred_poly))\n",
    "\n",
    "print(\"=================================================== \\n\")\n",
    "\n",
    "print(\"kernel is poly degree changed to 20\")\n",
    "svc_clf = svm.SVC(kernel='poly', degree=20)\n",
    "svc_clf.fit(X_train, y_train)\n",
    "svc_pred_poly = svc_clf.predict(X_test)\n",
    "print(confusion_matrix(y_test,svc_pred_poly))\n",
    "print(classification_report(y_test,svc_pred_poly))\n",
    "\n",
    "print(\"=================================================== \\n\")\n",
    "\n",
    "print(\"kernel is poly degree changed to 8\")\n",
    "svc_clf = svm.SVC(kernel='poly', degree=8)\n",
    "svc_clf.fit(X_train, y_train)\n",
    "svc_pred_poly = svc_clf.predict(X_test)\n",
    "print(confusion_matrix(y_test,svc_pred_poly))\n",
    "print(classification_report(y_test,svc_pred_poly))\n",
    "\n",
    "print(\"kernel is rbf\")\n",
    "svc_clf = svm.SVC(kernel='rbf')\n",
    "svc_clf.fit(X_train, y_train)\n",
    "svc_pred_gau = svc_clf.predict(X_test)\n",
    "print(confusion_matrix(y_test,svc_pred_gau))\n",
    "print(classification_report(y_test,svc_pred_gau))\n",
    "\n",
    "print(\"=================================================== \\n\")\n",
    "\n",
    "print(\"kernel is sigmoid\")\n",
    "svc_clf = svm.SVC(kernel='sigmoid')\n",
    "svc_clf.fit(X_train, y_train)\n",
    "svc_pred_sig = svc_clf.predict(X_test)\n",
    "print(confusion_matrix(y_test,svc_pred_sig))\n",
    "print(classification_report(y_test,svc_pred_sig))"
   ]
  },
  {
   "cell_type": "markdown",
   "id": "ac273650",
   "metadata": {},
   "source": [
    "# observation for SVM:\n",
    "accuracy is more compared to 0.10 test data split"
   ]
  },
  {
   "cell_type": "markdown",
   "id": "061c469c",
   "metadata": {},
   "source": [
    "# AOC - ROC"
   ]
  },
  {
   "cell_type": "code",
   "execution_count": 52,
   "id": "ff77fd5a",
   "metadata": {},
   "outputs": [
    {
     "name": "stdout",
     "output_type": "stream",
     "text": [
      "AOC for Logistic Regression is : 0.900735294117647\n",
      "AOC for KNN is :  0.9600183823529411\n",
      "AOC for LDA is :  0.8897058823529411\n",
      "AOC for SVM is :  0.9044117647058822\n",
      "AOC for Decision Tree is :  0.8607536764705882\n"
     ]
    },
    {
     "data": {
      "image/png": "[encoded data removed]",
      "text/plain": [
       "<Figure size 576x396 with 1 Axes>"
      ]
     },
     "metadata": {},
     "output_type": "display_data"
    }
   ],
   "source": [
    "# logistic regression\n",
    "model1 = LogisticRegression(solver='liblinear')\n",
    "# knn\n",
    "model2 = KNeighborsClassifier(n_neighbors=5)\n",
    "# LDA\n",
    "model3 = LinearDiscriminantAnalysis()\n",
    "#SVM\n",
    "\n",
    "model4 = svm.SVC(kernel='poly', degree=5, probability = True)\n",
    "model5 = DecisionTreeClassifier(min_samples_leaf=4)\n",
    "\n",
    "#probas_ = classifier.fit(X_train, y_train).predict_proba(X_test)\n",
    "\n",
    "# fit model\n",
    "model1.fit(X_train, y_train)\n",
    "model2.fit(X_train, y_train)\n",
    "model3.fit(X_train, y_train)\n",
    "model4.fit(X_train, y_train)\n",
    "model5.fit(X_train, y_train)\n",
    "# predict probabilities\n",
    "pred_prob1 = model1.predict_proba(X_test)\n",
    "pred_prob2 = model2.predict_proba(X_test)\n",
    "pred_prob3 = model3.predict_proba(X_test)\n",
    "pred_prob4 = model4.predict_proba(X_test)\n",
    "pred_prob5 = model5.predict_proba(X_test)\n",
    "\n",
    "\n",
    "from sklearn.metrics import roc_curve\n",
    "\n",
    "# roc curve for models\n",
    "fpr1, tpr1, thresh1 = roc_curve(y_test, pred_prob1[:,1], pos_label=1)\n",
    "fpr2, tpr2, thresh2 = roc_curve(y_test, pred_prob2[:,1], pos_label=1)\n",
    "fpr3, tpr3, thresh3 = roc_curve(y_test, pred_prob3[:,1], pos_label=1)\n",
    "fpr4, tpr4, thresh4 = roc_curve(y_test, pred_prob4[:,1], pos_label=1)\n",
    "fpr5, tpr5, thresh5 = roc_curve(y_test, pred_prob5[:,1], pos_label=1)\n",
    "\n",
    "# roc curve for tpr = fpr \n",
    "random_probs = [0 for i in range(len(y_test))]\n",
    "p_fpr, p_tpr, _ = roc_curve(y_test, random_probs, pos_label=1)\n",
    "\n",
    "from sklearn.metrics import roc_auc_score\n",
    "\n",
    "# auc scores\n",
    "auc_score1 = roc_auc_score(y_test, pred_prob1[:,1])\n",
    "auc_score2 = roc_auc_score(y_test, pred_prob2[:,1])\n",
    "auc_score3 = roc_auc_score(y_test, pred_prob3[:,1])\n",
    "auc_score4 = roc_auc_score(y_test, pred_prob4[:,1])\n",
    "auc_score5 = roc_auc_score(y_test, pred_prob5[:,1])\n",
    "\n",
    "print(\"AOC for Logistic Regression is :\", auc_score1)\n",
    "print(\"AOC for KNN is : \", auc_score2)\n",
    "print(\"AOC for LDA is : \", auc_score3)\n",
    "print(\"AOC for SVM is : \", auc_score4)\n",
    "print(\"AOC for Decision Tree is : \", auc_score5)\n",
    "\n",
    "plt.style.use('seaborn')\n",
    "\n",
    "# plot roc curves\n",
    "plt.plot(fpr1, tpr1, linestyle='--',color='orange', label='Logistic Regression')\n",
    "plt.plot(fpr2, tpr2, linestyle='--',color='green', label='KNN')\n",
    "plt.plot(fpr3, tpr3, linestyle='--',color='yellow', label='LDA')\n",
    "plt.plot(fpr4, tpr4, linestyle='--',color='red', label='SVM')\n",
    "plt.plot(fpr5, tpr5, linestyle='--',color='brown', label='Descision Tree')\n",
    "\n",
    "plt.plot(p_fpr, p_tpr, linestyle='--', color='blue')\n",
    "\n",
    "# title\n",
    "plt.title('ROC curve')\n",
    "# x label\n",
    "plt.xlabel('False Positive Rate')\n",
    "# y label\n",
    "plt.ylabel('True Positive rate')\n",
    "\n",
    "plt.legend(loc='best')\n",
    "plt.savefig('ROC',dpi=300)\n",
    "plt.show();\n"
   ]
  },
  {
   "cell_type": "markdown",
   "id": "16500cac",
   "metadata": {},
   "source": [
    "For test_data:train data = 1:9, AOC is highest for LDA with 0.98\n",
    "For test_data:train data = 1:3, AOC is highest for KNN with 0.95\n",
    "For test_data:train data = 1:4, AOC is highest for KNN with 0.96"
   ]
  },
  {
   "cell_type": "code",
   "execution_count": null,
   "id": "94106b32",
   "metadata": {},
   "outputs": [],
   "source": []
  }
 ],
 "metadata": {
  "kernelspec": {
   "display_name": "Python 3 (ipykernel)",
   "language": "python",
   "name": "python3"
  },
  "language_info": {
   "codemirror_mode": {
    "name": "ipython",
    "version": 3
   },
   "file_extension": ".py",
   "mimetype": "text/x-python",
   "name": "python",
   "nbconvert_exporter": "python",
   "pygments_lexer": "ipython3",
   "version": "3.8.10"
  }
 },
 "nbformat": 4,
 "nbformat_minor": 5
}
